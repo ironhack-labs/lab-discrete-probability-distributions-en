{
 "cells": [
  {
   "cell_type": "markdown",
   "metadata": {},
   "source": [
    "# Before your start:\n",
    "\n",
    "    Read the README.md file\n",
    "    Comment as much as you can and use the resources (README.md file)\n",
    "    Happy learning!\n",
    "\n",
    "*Notes:* \n",
    "\n",
    "- Solve the questions with python.\n",
    "\n",
    "- Round the final answer to three decimal places."
   ]
  },
  {
   "cell_type": "code",
   "execution_count": 51,
   "metadata": {},
   "outputs": [],
   "source": [
    "from scipy import stats\n",
    "import numpy as np\n",
    "import matplotlib.pyplot as plt\n",
    "import math\n",
    "import pandas as pd"
   ]
  },
  {
   "cell_type": "markdown",
   "metadata": {},
   "source": [
    "## Bernoulli's Distribution\n",
    "\n",
    "In a basket containing 100 fruits, there are 60 apples and 40 oranges. \n",
    "\n",
    "A fruit is picked randomly from the basket. \n",
    "\n",
    "1. **What is the probability that the fruit is apple?**\n",
    "1. **What is the probability that it is an orange?**"
   ]
  },
  {
   "cell_type": "code",
   "execution_count": 2,
   "metadata": {},
   "outputs": [
    {
     "name": "stdout",
     "output_type": "stream",
     "text": [
      "probability that the fruit is an apple:  60/100 = 0.6\n",
      "probability that the fruit is an orange:  40/100 = 0.4\n"
     ]
    }
   ],
   "source": [
    "\"\"\"\n",
    "Calculate:\n",
    "p = probability that the fruit is an apple \n",
    "q = probability that the fruit is an orange\n",
    "\"\"\"\n",
    "p = round(60 / 100, 3)\n",
    "q = round(40 / 100, 3)\n",
    "\n",
    "print(\"probability that the fruit is an apple: \",  \"60/100 =\", p)\n",
    "print(\"probability that the fruit is an orange: \" , \"40/100 =\", q)"
   ]
  },
  {
   "cell_type": "markdown",
   "metadata": {},
   "source": [
    "Now we take a random sample of 20 fruits from the basket. After each fruit is taken, a new fruit of the same type is replaced in the basket. Therefore, every time we are taking 1 fruit from 100 fruits. \n",
    "\n",
    "1. **What is the probability that the first 5 fruits are all apples?**\n",
    "\n",
    "1. **What is the probability that the first 5 fruits are all apples and the next 15 fruits are all oranges?**\n",
    "\n",
    "You can include the `p` and `q` probabilities you previous calculated in your solution."
   ]
  },
  {
   "cell_type": "code",
   "execution_count": 97,
   "metadata": {},
   "outputs": [
    {
     "name": "stdout",
     "output_type": "stream",
     "text": [
      "What is the probability that the first 5 fruits are all apples?  0.078\n",
      "What is the probability that the first 5 fruits are all apples and the next 15 fruits are all oranges?  0.0\n"
     ]
    }
   ],
   "source": [
    "# What is the probability that the first 5 fruits are all apples?\n",
    "# As there is replacement the changes of taking an apple stay constant for the 5 times\n",
    "print(\"What is the probability that the first 5 fruits are all apples? \", round(p**5, 3))\n",
    "# As previously there is replacement so the probabilities are the multiplication of each case \n",
    "print(\"What is the probability that the first 5 fruits are all apples and the next 15 fruits are all oranges? \", round(p**5 * q**15, 0)) # without round: 8.349416423424006e-08"
   ]
  },
  {
   "cell_type": "markdown",
   "metadata": {},
   "source": [
    "## Binomial Distribution\n",
    "\n",
    "Similar to the above problem, this time again we randomly sample 20 fruits.\n",
    "\n",
    "**What is the probability that this time the sample contains 5 apples and 15 oranges?**\n",
    "\n",
    "Please note that this time the order of the fruits being picked does not matter."
   ]
  },
  {
   "cell_type": "code",
   "execution_count": 41,
   "metadata": {},
   "outputs": [
    {
     "name": "stdout",
     "output_type": "stream",
     "text": [
      "What is the probability that this time the sample contains 5 apples and 15 oranges?  0.001\n"
     ]
    }
   ],
   "source": [
    "# your solution here\n",
    "# binomilnalCoeficient = n! / (x!(n-x)!)\n",
    "def binCoef(n, k):\n",
    "    return math.factorial(n) / (math.factorial(k) * math.factorial(n - k))\n",
    "\n",
    "print(\"What is the probability that this time the sample contains 5 apples and 15 oranges? \", round((p**5 * q**15) * binCoef(20, 5), 3)) # without round: 0.0012944935222876579"
   ]
  },
  {
   "cell_type": "code",
   "execution_count": 18,
   "metadata": {},
   "outputs": [],
   "source": [
    "# your solution here"
   ]
  },
  {
   "cell_type": "markdown",
   "metadata": {},
   "source": [
    "In the lesson we also discussed CDF (cumulative distribution function). In the context of the above problem, **what is the probability that less than 5 fruits picked are apples?**\n",
    "\n",
    "Write the formula and calculate the probability below."
   ]
  },
  {
   "cell_type": "code",
   "execution_count": 104,
   "metadata": {},
   "outputs": [
    {
     "name": "stdout",
     "output_type": "stream",
     "text": [
      "what is the probability that less than 5 fruits picked are apples?  0.0\n"
     ]
    }
   ],
   "source": [
    "# your code here\n",
    "# P(k)=C(n,k) × p**k × (1−p)**n−k\n",
    "def pmf(n):\n",
    "    probs = []\n",
    "    for k in range(0, n + 1):\n",
    "        probs.append(binCoef(20, k) * (p**k) * (1-p)**(20-k))\n",
    "    return probs\n",
    "\n",
    "print(\"what is the probability that less than 5 fruits picked are apples? \", round(sum(pmf(4)), 3)) # without round 0.00031703112116863\n",
    "# Alternatively it can be calculated as: stats.binom.cdf(4, 20, p)"
   ]
  },
  {
   "cell_type": "markdown",
   "metadata": {},
   "source": [
    "**Plot the PDF (probability distribution function) for the above binomial distribution.**\n",
    "\n",
    "*Hint: The range of x in a binomial distribution is from `0` to `n`.*"
   ]
  },
  {
   "cell_type": "code",
   "execution_count": 108,
   "metadata": {},
   "outputs": [
    {
     "data": {
      "image/png": "[encoded data removed]",
      "text/plain": [
       "<Figure size 640x480 with 1 Axes>"
      ]
     },
     "metadata": {},
     "output_type": "display_data"
    }
   ],
   "source": [
    "# your code here\n",
    "# PDF was incorrect because it is for continuous variables and we have discrete here (amount of apples)\n",
    "# This shoud be PMF (probability mass function) instead\n",
    "\n",
    "# Please label the axes and give a title to the plot \n",
    "pd.DataFrame(pmf(20)).plot.bar()\n",
    "plt.title('PMF of Apple Picking')\n",
    "plt.xlabel('Apples')\n",
    "plt.ylabel('Probability')\n",
    "plt.show();"
   ]
  },
  {
   "cell_type": "markdown",
   "metadata": {},
   "source": [
    "## Poisson Distribution\n",
    "\n",
    "In this challenge you are required to use the Math library in python to solve the problems.\n",
    "\n",
    "In the UEFA champions league tournament, the average number of goals scored in a match is 2.3. \n",
    "\n",
    "**What is the probability that the number of goals scored in a match is 5?**\n",
    "\n",
    "*Hint: Use the exp() in the math library*\n",
    "\n",
    "And to calculate the factorial, you can use the following code:\n",
    "\n",
    "```python\n",
    "import math\n",
    "math.factorial(n) # n is the number you want to find the factorial of\n",
    "```"
   ]
  },
  {
   "cell_type": "code",
   "execution_count": 109,
   "metadata": {},
   "outputs": [
    {
     "data": {
      "text/plain": [
       "0.054"
      ]
     },
     "execution_count": 109,
     "metadata": {},
     "output_type": "execute_result"
    }
   ],
   "source": [
    "def poisDist(k, l):\n",
    "    # P(k)=(λ**k) * e**(−λ)​ / k!\n",
    "    # k = Number of events (goals)\n",
    "    # l = \"λ\" = Avg Rate\n",
    "    return ((l**k) * math.exp(l*-1)) / math.factorial(k) \n",
    "\n",
    "# K = Number of goals\n",
    "# l = Num goals per match\n",
    "round(poisDist(k=5, l=2.3), 3)\n",
    "\n",
    "# Alternatively it can be calculated as: stats.poisson.pmf(k, l)"
   ]
  },
  {
   "cell_type": "markdown",
   "metadata": {},
   "source": [
    "**Draw a poisson probability distribution plot for the number of goals to be between 0 to 10.**"
   ]
  },
  {
   "cell_type": "code",
   "execution_count": 113,
   "metadata": {},
   "outputs": [
    {
     "data": {
      "image/png": "[encoded data removed]",
      "text/plain": [
       "<Figure size 640x480 with 1 Axes>"
      ]
     },
     "metadata": {},
     "output_type": "display_data"
    }
   ],
   "source": [
    "# your code here\n",
    "# Please label the axes and give a title to the plot \n",
    "poisPlot = []\n",
    "for goals in range(0, 11):\n",
    "    poisPlot.append(poisDist(k=goals, l=2.3))\n",
    "\n",
    "pd.DataFrame(poisPlot).plot.bar()\n",
    "plt.title('Poison Probability Distribution of Goals (0-10)')\n",
    "plt.xlabel('Goals')\n",
    "plt.ylabel('Posion Probability')\n",
    "plt.show();"
   ]
  }
 ],
 "metadata": {
  "kernelspec": {
   "display_name": "Python 3",
   "language": "python",
   "name": "python3"
  },
  "language_info": {
   "codemirror_mode": {
    "name": "ipython",
    "version": 3
   },
   "file_extension": ".py",
   "mimetype": "text/x-python",
   "name": "python",
   "nbconvert_exporter": "python",
   "pygments_lexer": "ipython3",
   "version": "3.11.12"
  }
 },
 "nbformat": 4,
 "nbformat_minor": 2
}
