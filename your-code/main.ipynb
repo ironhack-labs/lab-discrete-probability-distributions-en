{
 "cells": [
  {
   "cell_type": "markdown",
   "metadata": {},
   "source": [
    "# Before your start:\n",
    "\n",
    "    Read the README.md file\n",
    "    Comment as much as you can and use the resources (README.md file)\n",
    "    Happy learning!\n",
    "\n",
    "*Notes:* \n",
    "\n",
    "- Solve the questions with python.\n",
    "\n",
    "- Round the final answer to three decimal places."
   ]
  },
  {
   "cell_type": "code",
   "execution_count": 1,
   "metadata": {},
   "outputs": [],
   "source": [
    "from scipy import stats\n",
    "import numpy as np\n",
    "import matplotlib.pyplot as plt\n",
    "import math"
   ]
  },
  {
   "cell_type": "markdown",
   "metadata": {},
   "source": [
    "## Bernoulli's Distribution\n",
    "\n",
    "In a basket containing 100 fruits, there are 60 apples and 40 oranges. \n",
    "\n",
    "A fruit is picked randomly from the basket. \n",
    "\n",
    "1. **What is the probability that the fruit is apple?**\n",
    "1. **What is the probability that it is an orange?**"
   ]
  },
  {
   "cell_type": "code",
   "execution_count": 25,
   "metadata": {},
   "outputs": [
    {
     "name": "stdout",
     "output_type": "stream",
     "text": [
      "probability of picking orange: 0.4\n",
      "probability of picking apple: 0.6\n"
     ]
    }
   ],
   "source": [
    "\"\"\"\n",
    "Calculate:\n",
    "p = probability that the fruit is an apple \n",
    "q = probability that the fruit is an orange\n",
    "\"\"\"\n",
    "\n",
    "n_fruits = 100\n",
    "n_oranges = 40\n",
    "n_apples = 60\n",
    "\n",
    "p_orange = n_oranges/n_fruits\n",
    "p_apple = n_apples/n_fruits\n",
    "\n",
    "print('probability of picking orange:', p_orange)\n",
    "print('probability of picking apple:', p_apple)"
   ]
  },
  {
   "cell_type": "markdown",
   "metadata": {},
   "source": [
    "Now we take a random sample of 20 fruits from the basket. After each fruit is taken, a new fruit of the same type is replaced in the basket. Therefore, every time we are taking 1 fruit from 100 fruits. \n",
    "\n",
    "1. **What is the probability that the first 5 fruits are all apples?**\n",
    "\n",
    "1. **What is the probability that the first 5 fruits are all apples and the next 15 fruits are all oranges?**\n",
    "\n",
    "You can include the `p` and `q` probabilities you previous calculated in your solution."
   ]
  },
  {
   "cell_type": "code",
   "execution_count": null,
   "metadata": {},
   "outputs": [
    {
     "data": {
      "text/plain": [
       "0.07775999999999998"
      ]
     },
     "execution_count": 26,
     "metadata": {},
     "output_type": "execute_result"
    }
   ],
   "source": [
    "# I am ignoring the prompt to round because some of the numbers become very small here\n",
    "\n",
    "# What is the probability that the first 5 fruits are all apples?\n",
    "# multiply the probability of picking an apple 5 times\n",
    "p_5_apples = p_apple ** 5\n",
    "p_5_apples"
   ]
  },
  {
   "cell_type": "code",
   "execution_count": 27,
   "metadata": {},
   "outputs": [
    {
     "data": {
      "text/plain": [
       "8.349416423424006e-08"
      ]
     },
     "execution_count": 27,
     "metadata": {},
     "output_type": "execute_result"
    }
   ],
   "source": [
    "# What is the probability that the first 5 fruits are all apples and the next 15 fruits are all oranges?\n",
    "# multiply with the probability of picking an orange 15 times in total\n",
    "p_5_apple_then_15_orange = p_5_apples * (p_orange**15)\n",
    "p_5_apple_then_15_orange"
   ]
  },
  {
   "cell_type": "markdown",
   "metadata": {},
   "source": [
    "## Binomial Distribution\n",
    "\n",
    "Similar to the above problem, this time again we randomly sample 20 fruits.\n",
    "\n",
    "**What is the probability that this time the sample contains 5 apples and 15 oranges?**\n",
    "\n",
    "Please note that this time the order of the fruits being picked does not matter."
   ]
  },
  {
   "cell_type": "code",
   "execution_count": 28,
   "metadata": {},
   "outputs": [
    {
     "name": "stdout",
     "output_type": "stream",
     "text": [
      "0.0012944935222876579\n"
     ]
    },
    {
     "data": {
      "text/plain": [
       "0.0012944935222876579"
      ]
     },
     "execution_count": 28,
     "metadata": {},
     "output_type": "execute_result"
    }
   ],
   "source": [
    "# your solution here\n",
    "# We need to multiply the probability of one particular order of picks for 5 apples and 20 oranges \n",
    "# with the number of possible ways of picking 5 apples out of 20 total picks (equivalently 15 oranges out of 20 total picks)\n",
    "# This is calculated using the binomial coefficient.\n",
    "def binom(totaloptions,n_pick):\n",
    "    return math.factorial(totaloptions)/(math.factorial(n_pick) * math.factorial(totaloptions-n_pick))\n",
    "\n",
    "\n",
    "p_5_apple_15_orange_any = binom(20,5) * p_5_apple_then_15_orange\n",
    "print(p_5_apple_15_orange_any)\n",
    "\n",
    "# alternatively using prebuilt function\n",
    "p_5_apple_15_orange_any_prebuilt = math.comb(20,5) * p_5_apple_then_15_orange\n",
    "p_5_apple_15_orange_any_prebuilt\n"
   ]
  },
  {
   "cell_type": "markdown",
   "metadata": {},
   "source": [
    "In the lesson we also discussed CDF (cumulative distribution function). In the context of the above problem, **what is the probability that less than 5 fruits picked are apples?**\n",
    "\n",
    "Write the formula and calculate the probability below."
   ]
  },
  {
   "cell_type": "code",
   "execution_count": null,
   "metadata": {},
   "outputs": [
    {
     "name": "stdout",
     "output_type": "stream",
     "text": [
      "Cumulative Probability: 0.00031703\n"
     ]
    }
   ],
   "source": [
    "# your code here\n",
    "\n",
    "total_picks = 20\n",
    "k_max = 4  # We want less than 5 apples, so k ranges from 0 to 4\n",
    "# Calculate cumulative probability of less than 5 apples\n",
    "cumul_prob_up_to_4_apples = stats.binom.cdf(k_max, total_picks, p_apple)\n",
    "print(f\"Cumulative Probability: {cumul_prob_up_to_4_apples:.8f}\")\n",
    "\n"
   ]
  },
  {
   "cell_type": "code",
   "execution_count": 39,
   "metadata": {},
   "outputs": [
    {
     "name": "stdout",
     "output_type": "stream",
     "text": [
      "what is the probability that less than 5 fruits picked are apples?  0.001348430752382977\n"
     ]
    }
   ],
   "source": [
    "# manual alternative by Jonathan\n",
    "# P(k)=C(n,k)×pk×(1−p)**n−k\n",
    "\n",
    "cdf_tmp = 0\n",
    "for k in range(0, 5):\n",
    "    cdf_tmp += binom(20, k_max) * (p_apple**k_max) * (1-p_apple)**(20-k_max)\n",
    "    \n",
    "print(\"what is the probability that less than 5 fruits picked are apples? \", cdf_tmp)"
   ]
  },
  {
   "cell_type": "markdown",
   "metadata": {},
   "source": [
    "**Plot the PDF (probability distributiom function) for the above binomial distribution.**\n",
    "\n",
    "*Hint: The range of x in a binomial distribution is from `0` to `n`.*"
   ]
  },
  {
   "cell_type": "code",
   "execution_count": null,
   "metadata": {},
   "outputs": [
    {
     "data": {
      "text/plain": [
       "[np.float64(1.0995116277760011e-08),\n",
       " np.float64(3.298534883328002e-07),\n",
       " np.float64(4.700412208742411e-06),\n",
       " np.float64(4.2303709878681673e-05),\n",
       " np.float64(0.0002696861504765956),\n",
       " np.float64(0.0012944935222876583),\n",
       " np.float64(0.004854350708578719),\n",
       " np.float64(0.01456305212573616),\n",
       " np.float64(0.03549743955648178),\n",
       " np.float64(0.07099487911296379),\n",
       " np.float64(0.11714155053639005),\n",
       " np.float64(0.1597384780041684),\n",
       " np.float64(0.17970578775468957),\n",
       " np.float64(0.16588226561971356),\n",
       " np.float64(0.12441169921478513),\n",
       " np.float64(0.07464701952887111),\n",
       " np.float64(0.034990790404158235),\n",
       " np.float64(0.01234969073087939),\n",
       " np.float64(0.003087422682719849),\n",
       " np.float64(0.00048748779200839793)]"
      ]
     },
     "execution_count": 42,
     "metadata": {},
     "output_type": "execute_result"
    }
   ],
   "source": [
    "# your code here\n",
    "# Please label the axes and give a title to the plot \n",
    "# I think the task uses misleading terminology, since the abbreviation PDF normally stands for probability density function, which \n",
    "# is defined for continuous variables\n",
    "# I assume for the categorical variable here, we need to calculate the probability mass function/PMF\n",
    "\n",
    "pmf = [stats.binom.pmf(k,20,p_apple) for k in range(0,20)]\n",
    "pmf"
   ]
  },
  {
   "cell_type": "code",
   "execution_count": 55,
   "metadata": {},
   "outputs": [
    {
     "data": {
      "text/plain": [
       "Text(0.5, 0, 'Apples picked')"
      ]
     },
     "execution_count": 55,
     "metadata": {},
     "output_type": "execute_result"
    },
    {
     "data": {
      "image/png": "[encoded data removed]",
      "text/plain": [
       "<Figure size 640x480 with 1 Axes>"
      ]
     },
     "metadata": {},
     "output_type": "display_data"
    }
   ],
   "source": [
    "import pandas as pd\n",
    "pmf_df = pd.DataFrame(pmf)\n",
    "pmf_df.plot.bar()\n",
    "plt.title('Probability Mass Function for number of apples included in a pick of 20 fruits given p=.6')\n",
    "plt.ylabel('Probability')\n",
    "plt.xlabel('Apples picked')"
   ]
  },
  {
   "cell_type": "markdown",
   "metadata": {},
   "source": [
    "## Poisson Distribution\n",
    "\n",
    "In this challenge you are required to use the Math library in python to solve the problems.\n",
    "\n",
    "In the UEFA champions league tournament, the average number of goals scored in a match is 2.3. \n",
    "\n",
    "**What is the probability that the number of goals scored in a match is 5?**\n",
    "\n",
    "*Hint: Use the exp() in the math library*\n",
    "\n",
    "And to calculate the factorial, you can use the following code:\n",
    "\n",
    "```python\n",
    "import math\n",
    "math.factorial(n) # n is the number you want to find the factorial of\n",
    "```"
   ]
  },
  {
   "cell_type": "code",
   "execution_count": null,
   "metadata": {},
   "outputs": [
    {
     "data": {
      "text/plain": [
       "np.float64(0.053775025581946814)"
      ]
     },
     "execution_count": 50,
     "metadata": {},
     "output_type": "execute_result"
    }
   ],
   "source": [
    "# your code here\n",
    "# using the stats library\n",
    "stats.poisson.pmf(5,2.3)\n"
   ]
  },
  {
   "cell_type": "code",
   "execution_count": null,
   "metadata": {},
   "outputs": [
    {
     "data": {
      "text/plain": [
       "0.0537750255819468"
      ]
     },
     "execution_count": 53,
     "metadata": {},
     "output_type": "execute_result"
    }
   ],
   "source": [
    "# manual sanity check\n",
    "# P(k)=(λ**k) * e**(−λ)​ / k!\n",
    "\n",
    "def pois(k,lamb):\n",
    "    return lamb**k * math.exp(-lamb) / math.factorial(k)\n",
    "\n",
    "pois(5,2.3)"
   ]
  },
  {
   "cell_type": "markdown",
   "metadata": {},
   "source": [
    "**Draw a poisson probability distribution plot for the number of goals to be between 0 to 10.**"
   ]
  },
  {
   "cell_type": "code",
   "execution_count": 54,
   "metadata": {},
   "outputs": [
    {
     "data": {
      "text/plain": [
       "Text(0.5, 0, 'Number of goals per match')"
      ]
     },
     "execution_count": 54,
     "metadata": {},
     "output_type": "execute_result"
    },
    {
     "data": {
      "image/png": "[encoded data removed]",
      "text/plain": [
       "<Figure size 640x480 with 1 Axes>"
      ]
     },
     "metadata": {},
     "output_type": "display_data"
    }
   ],
   "source": [
    "# your code here\n",
    "# Please label the axes and give a title to the plot \n",
    "\n",
    "pmf_poiss = pd.DataFrame([stats.poisson.pmf(k,2.3) for k in range(10)])\n",
    "pmf_poiss.plot.bar()\n",
    "plt.title('Probability Mass Function for goals scored during a match')\n",
    "plt.ylabel('Probability')\n",
    "plt.xlabel('Number of goals per match')"
   ]
  }
 ],
 "metadata": {
  "kernelspec": {
   "display_name": "Python 3",
   "language": "python",
   "name": "python3"
  },
  "language_info": {
   "codemirror_mode": {
    "name": "ipython",
    "version": 3
   },
   "file_extension": ".py",
   "mimetype": "text/x-python",
   "name": "python",
   "nbconvert_exporter": "python",
   "pygments_lexer": "ipython3",
   "version": "3.11.11"
  }
 },
 "nbformat": 4,
 "nbformat_minor": 2
}
