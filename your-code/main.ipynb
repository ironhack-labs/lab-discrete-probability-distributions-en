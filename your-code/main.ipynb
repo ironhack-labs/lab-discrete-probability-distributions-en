{
 "cells": [
  {
   "cell_type": "markdown",
   "metadata": {},
   "source": [
    "# Before your start:\n",
    "\n",
    "    Read the README.md file\n",
    "    Comment as much as you can and use the resources (README.md file)\n",
    "    Happy learning!\n",
    "\n",
    "*Notes:* \n",
    "\n",
    "- Solve the questions with python.\n",
    "\n",
    "- Round the final answer to three decimal places."
   ]
  },
  {
   "cell_type": "code",
   "execution_count": 29,
   "metadata": {},
   "outputs": [],
   "source": [
    "from scipy import stats\n",
    "import numpy as np\n",
    "import matplotlib.pyplot as plt\n",
    "import seaborn as sns\n",
    "import math\n",
    "from scipy.stats import binom\n",
    "from scipy.stats import poisson\n",
    "sns.set_theme(context='notebook', style='whitegrid')"
   ]
  },
  {
   "cell_type": "markdown",
   "metadata": {},
   "source": [
    "## Bernoulli's Distribution\n",
    "\n",
    "In a basket containing 100 fruits, there are 60 apples and 40 oranges. \n",
    "\n",
    "A fruit is picked randomly from the basket. \n",
    "\n",
    "1. **What is the probability that the fruit is apple?**\n",
    "1. **What is the probability that it is an orange?**"
   ]
  },
  {
   "cell_type": "code",
   "execution_count": 3,
   "metadata": {},
   "outputs": [
    {
     "name": "stdout",
     "output_type": "stream",
     "text": [
      "p: 0.60\n",
      "q: 0.40\n"
     ]
    }
   ],
   "source": [
    "\"\"\"\n",
    "Calculate:\n",
    "p = probability that the fruit is an apple \n",
    "q = probability that the fruit is an orange\n",
    "\"\"\"\n",
    "\n",
    "total_fruits = 100\n",
    "apples = 60\n",
    "oranges = 40\n",
    "\n",
    "p = apples/total_fruits\n",
    "q = oranges/total_fruits\n",
    "print(f\"p: {p:.2f}\")\n",
    "print(f\"q: {q:.2f}\")"
   ]
  },
  {
   "cell_type": "markdown",
   "metadata": {},
   "source": [
    "Now we take a random sample of 20 fruits from the basket. After each fruit is taken, a new fruit of the same type is replaced in the basket. Therefore, every time we are taking 1 fruit from 100 fruits. \n",
    "\n",
    "1. **What is the probability that the first 5 fruits are all apples?**\n",
    "\n",
    "1. **What is the probability that the first 5 fruits are all apples and the next 15 fruits are all oranges?**\n",
    "\n",
    "You can include the `p` and `q` probabilities you previous calculated in your solution."
   ]
  },
  {
   "cell_type": "code",
   "execution_count": 12,
   "metadata": {},
   "outputs": [
    {
     "name": "stdout",
     "output_type": "stream",
     "text": [
      "0.078\n",
      "0.0\n"
     ]
    }
   ],
   "source": [
    "# What is the probability that the first 5 fruits are all apples?\n",
    "p_5apple = p**5\n",
    "print(round(p_5apple,3))\n",
    "p_15oranges = q**15\n",
    "p_5a_15o = p_5apple * p_15oranges\n",
    "print(round(p_5a_15o, 3))"
   ]
  },
  {
   "cell_type": "markdown",
   "metadata": {},
   "source": [
    "## Binomial Distribution\n",
    "\n",
    "Similar to the above problem, this time again we randomly sample 20 fruits.\n",
    "\n",
    "**What is the probability that this time the sample contains 5 apples and 15 oranges?**\n",
    "\n",
    "Please note that this time the order of the fruits being picked does not matter."
   ]
  },
  {
   "cell_type": "code",
   "execution_count": null,
   "metadata": {},
   "outputs": [
    {
     "name": "stdout",
     "output_type": "stream",
     "text": [
      "Number of oranges in sample (n-k): 15\n",
      "\n",
      "The probability of the sample containing exactly 5 apples and 15 oranges is: 0.0012944935\n"
     ]
    }
   ],
   "source": [
    "# your solution here\n",
    "\n",
    "n = 20 #numer of trials\n",
    "p #probability of apples\n",
    "q #probability of oranges\n",
    "ka = 5 #prob of 5 apples\n",
    "ko = 15 #prob of 15 oranges\n",
    "\n",
    "prob = binom.pmf(ka, n, p)\n",
    "print(f\"Number of oranges in sample (n-k): {n - ka}\\n\")\n",
    "print(f\"The probability of the sample containing exactly 5 apples and 15 oranges is: {prob:.10f}\")"
   ]
  },
  {
   "cell_type": "code",
   "execution_count": null,
   "metadata": {},
   "outputs": [],
   "source": [
    "# your solution here"
   ]
  },
  {
   "cell_type": "markdown",
   "metadata": {},
   "source": [
    "In the lesson we also discussed CDF (cumulative distribution function). In the context of the above problem, **what is the probability that less than 5 fruits picked are apples?**\n",
    "\n",
    "Write the formula and calculate the probability below."
   ]
  },
  {
   "cell_type": "code",
   "execution_count": 17,
   "metadata": {},
   "outputs": [
    {
     "name": "stdout",
     "output_type": "stream",
     "text": [
      "The probability of the sample containing less than 5 apples is: 0.001\n"
     ]
    }
   ],
   "source": [
    "# your code here\n",
    "n = 20 #numer of trials\n",
    "p #probability of apples\n",
    "# P(x <= 4) -- prob of less than 5 apples\n",
    "prob_cdf = binom.cdf(4, n, p)\n",
    "print(f\"The probability of the sample containing less than 5 apples is: {prob:.3f}\")"
   ]
  },
  {
   "cell_type": "markdown",
   "metadata": {},
   "source": [
    "**Plot the PDF (probability distributiom function) for the above binomial distribution.**\n",
    "\n",
    "*Hint: The range of x in a binomial distribution is from `0` to `n`.*"
   ]
  },
  {
   "cell_type": "code",
   "execution_count": 27,
   "metadata": {},
   "outputs": [
    {
     "data": {
      "image/png": "[encoded data removed]",
      "text/plain": [
       "<Figure size 640x480 with 1 Axes>"
      ]
     },
     "metadata": {},
     "output_type": "display_data"
    }
   ],
   "source": [
    "# your code here\n",
    "#PMF for all possible number of apples\n",
    "k_allapples = np.arange(0, n + 1)\n",
    "pmf_apples = binom.pmf(k_allapples, n, p)\n",
    "pmf_apples\n",
    "# Please label the axes and give a title to the plot \n",
    "sns.barplot(x=k_allapples, y=pmf_apples, palette='viridis', hue=k_allapples, legend=False)\n",
    "plt.title('Probability Mass Function of Apples in a Sample of 20 fruits')\n",
    "plt.xlabel('Number of apples (k)')\n",
    "plt.ylabel('Probability P(x=k)')\n",
    "plt.show()"
   ]
  },
  {
   "cell_type": "markdown",
   "metadata": {},
   "source": [
    "## Poisson Distribution\n",
    "\n",
    "In this challenge you are required to use the Math library in python to solve the problems.\n",
    "\n",
    "In the UEFA champions league tournament, the average number of goals scored in a match is 2.3. \n",
    "\n",
    "**What is the probability that the number of goals scored in a match is 5?**\n",
    "\n",
    "*Hint: Use the exp() in the math library*\n",
    "\n",
    "And to calculate the factorial, you can use the following code:\n",
    "\n",
    "```python\n",
    "import math\n",
    "math.factorial(n) # n is the number you want to find the factorial of\n",
    "```"
   ]
  },
  {
   "cell_type": "code",
   "execution_count": 32,
   "metadata": {},
   "outputs": [
    {
     "name": "stdout",
     "output_type": "stream",
     "text": [
      "Probability of 5 goals scored in a match: 0.054\n"
     ]
    }
   ],
   "source": [
    "# your code here \n",
    "lambda_rate = 2.3 #average number of goals in a match\n",
    "\n",
    "#probability of 5 goals in a match\n",
    "prob_5 = poisson.pmf(5, lambda_rate)\n",
    "print(f\"Probability of 5 goals scored in a match: {round(prob_5, 3)}\")"
   ]
  },
  {
   "cell_type": "markdown",
   "metadata": {},
   "source": [
    "**Draw a poisson probability distribution plot for the number of goals to be between 0 to 10.**"
   ]
  },
  {
   "cell_type": "code",
   "execution_count": null,
   "metadata": {},
   "outputs": [
    {
     "name": "stdout",
     "output_type": "stream",
     "text": [
      "Probability of 0 to 10 goals scored in a match: [0.10025884 0.23059534 0.26518464 0.20330823 0.11690223 0.05377503\n",
      " 0.02061376 0.00677309 0.00194726 0.00049763]\n"
     ]
    }
   ],
   "source": [
    "# your code here\n",
    "goals_010 = np.arange(0, 10)\n",
    "prob_010 = poisson.pmf(goals_010, lambda_rate)\n",
    "print(f\"Probability of 0 to 10 goals scored in a match: {prob_010}\")\n",
    "\n",
    "# Please label the axes and give a title to the plot \n"
   ]
  },
  {
   "cell_type": "code",
   "execution_count": 39,
   "metadata": {},
   "outputs": [
    {
     "data": {
      "image/png": "[encoded data removed]",
      "text/plain": [
       "<Figure size 640x480 with 1 Axes>"
      ]
     },
     "metadata": {},
     "output_type": "display_data"
    }
   ],
   "source": [
    "sns.barplot(x=goals_010, y=prob_010, palette='viridis', hue=goals_010, legend=False)\n",
    "plt.title('Probability Mass Function of number of goals between 0 and 10')\n",
    "plt.xlabel('Number of goals')\n",
    "plt.ylabel('Probability')\n",
    "plt.show()"
   ]
  },
  {
   "cell_type": "code",
   "execution_count": null,
   "metadata": {},
   "outputs": [],
   "source": []
  }
 ],
 "metadata": {
  "kernelspec": {
   "display_name": "Python 3",
   "language": "python",
   "name": "python3"
  },
  "language_info": {
   "codemirror_mode": {
    "name": "ipython",
    "version": 3
   },
   "file_extension": ".py",
   "mimetype": "text/x-python",
   "name": "python",
   "nbconvert_exporter": "python",
   "pygments_lexer": "ipython3",
   "version": "3.13.3"
  }
 },
 "nbformat": 4,
 "nbformat_minor": 2
}
